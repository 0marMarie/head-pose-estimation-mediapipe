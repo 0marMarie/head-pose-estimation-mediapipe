{
 "cells": [
  {
   "cell_type": "markdown",
   "id": "bb8848a0",
   "metadata": {},
   "source": [
    "### Imports"
   ]
  },
  {
   "cell_type": "code",
   "execution_count": 1,
   "id": "0fd6786c",
   "metadata": {},
   "outputs": [
    {
     "name": "stderr",
     "output_type": "stream",
     "text": [
      "objc[14767]: Class CaptureDelegate is implemented in both /Users/omarmarie/miniforge3/lib/python3.9/site-packages/cv2/cv2.abi3.so (0x14f50e538) and /Users/omarmarie/miniforge3/lib/python3.9/site-packages/mediapipe/.dylibs/libopencv_videoio.3.4.16.dylib (0x151620860). One of the two will be used. Which one is undefined.\n",
      "objc[14767]: Class CVWindow is implemented in both /Users/omarmarie/miniforge3/lib/python3.9/site-packages/cv2/cv2.abi3.so (0x14f50e588) and /Users/omarmarie/miniforge3/lib/python3.9/site-packages/mediapipe/.dylibs/libopencv_highgui.3.4.16.dylib (0x14bcdca68). One of the two will be used. Which one is undefined.\n",
      "objc[14767]: Class CVView is implemented in both /Users/omarmarie/miniforge3/lib/python3.9/site-packages/cv2/cv2.abi3.so (0x14f50e5b0) and /Users/omarmarie/miniforge3/lib/python3.9/site-packages/mediapipe/.dylibs/libopencv_highgui.3.4.16.dylib (0x14bcdca90). One of the two will be used. Which one is undefined.\n",
      "objc[14767]: Class CVSlider is implemented in both /Users/omarmarie/miniforge3/lib/python3.9/site-packages/cv2/cv2.abi3.so (0x14f50e5d8) and /Users/omarmarie/miniforge3/lib/python3.9/site-packages/mediapipe/.dylibs/libopencv_highgui.3.4.16.dylib (0x14bcdcab8). One of the two will be used. Which one is undefined.\n"
     ]
    }
   ],
   "source": [
    "import pandas as pd\n",
    "import numpy as np\n",
    "from sklearn.model_selection import train_test_split\n",
    "from sklearn.pipeline import Pipeline\n",
    "from sklearn.impute import SimpleImputer\n",
    "from sklearn.ensemble import RandomForestRegressor\n",
    "from sklearn.model_selection import GridSearchCV,RandomizedSearchCV\n",
    "import matplotlib.pyplot as plt\n",
    "import cv2\n",
    "import math\n",
    "import random\n",
    "from math import cos, sin\n",
    "import joblib\n",
    "import mediapipe as mp"
   ]
  },
  {
   "cell_type": "code",
   "execution_count": 2,
   "id": "4fc66193",
   "metadata": {},
   "outputs": [],
   "source": [
    "import numpy as np\n",
    "import os,cv2,math,glob,random\n",
    "import scipy.io as sio\n",
    "from math import cos, sin\n",
    "from pathlib import Path\n",
    "import pandas as pd\n",
    "import mediapipe\n",
    "import warnings\n",
    "import matplotlib.pyplot as plt"
   ]
  },
  {
   "cell_type": "markdown",
   "id": "78295a39",
   "metadata": {},
   "source": [
    "### Read Data"
   ]
  },
  {
   "cell_type": "code",
   "execution_count": 3,
   "id": "14d10f30",
   "metadata": {},
   "outputs": [],
   "source": [
    "X = pd.read_csv('preprocessed_data.csv', index_col = False)\n",
    "Y = pd.read_csv('labels.csv', index_col = False)"
   ]
  },
  {
   "cell_type": "code",
   "execution_count": 4,
   "id": "bfb141df",
   "metadata": {},
   "outputs": [],
   "source": [
    "yaw_model   = RandomForestRegressor(max_depth=30, n_estimators=100, max_leaf_nodes=105, max_samples=1240)\n",
    "pitch_model = RandomForestRegressor(max_depth=30, n_estimators=100, max_leaf_nodes=105, max_samples=1240)\n",
    "roll_model  = RandomForestRegressor(max_depth=30, n_estimators=100, max_leaf_nodes=105, max_samples=1240)"
   ]
  },
  {
   "cell_type": "code",
   "execution_count": 5,
   "id": "c759d684",
   "metadata": {},
   "outputs": [
    {
     "data": {
      "text/html": [
       "<div>\n",
       "<style scoped>\n",
       "    .dataframe tbody tr th:only-of-type {\n",
       "        vertical-align: middle;\n",
       "    }\n",
       "\n",
       "    .dataframe tbody tr th {\n",
       "        vertical-align: top;\n",
       "    }\n",
       "\n",
       "    .dataframe thead th {\n",
       "        text-align: right;\n",
       "    }\n",
       "</style>\n",
       "<table border=\"1\" class=\"dataframe\">\n",
       "  <thead>\n",
       "    <tr style=\"text-align: right;\">\n",
       "      <th></th>\n",
       "      <th>yaw</th>\n",
       "      <th>pitch</th>\n",
       "      <th>roll</th>\n",
       "    </tr>\n",
       "  </thead>\n",
       "  <tbody>\n",
       "    <tr>\n",
       "      <th>0</th>\n",
       "      <td>1.044306</td>\n",
       "      <td>-22.874239</td>\n",
       "      <td>4.908886</td>\n",
       "    </tr>\n",
       "    <tr>\n",
       "      <th>1</th>\n",
       "      <td>68.155240</td>\n",
       "      <td>26.932743</td>\n",
       "      <td>17.243670</td>\n",
       "    </tr>\n",
       "    <tr>\n",
       "      <th>2</th>\n",
       "      <td>50.485413</td>\n",
       "      <td>-10.579652</td>\n",
       "      <td>-13.570645</td>\n",
       "    </tr>\n",
       "    <tr>\n",
       "      <th>3</th>\n",
       "      <td>17.143373</td>\n",
       "      <td>-10.048455</td>\n",
       "      <td>-21.392782</td>\n",
       "    </tr>\n",
       "    <tr>\n",
       "      <th>4</th>\n",
       "      <td>0.685565</td>\n",
       "      <td>-1.536199</td>\n",
       "      <td>-12.643008</td>\n",
       "    </tr>\n",
       "    <tr>\n",
       "      <th>...</th>\n",
       "      <td>...</td>\n",
       "      <td>...</td>\n",
       "      <td>...</td>\n",
       "    </tr>\n",
       "    <tr>\n",
       "      <th>1845</th>\n",
       "      <td>-16.261791</td>\n",
       "      <td>-17.552992</td>\n",
       "      <td>2.208994</td>\n",
       "    </tr>\n",
       "    <tr>\n",
       "      <th>1846</th>\n",
       "      <td>-24.621336</td>\n",
       "      <td>-21.058870</td>\n",
       "      <td>7.035404</td>\n",
       "    </tr>\n",
       "    <tr>\n",
       "      <th>1847</th>\n",
       "      <td>32.493248</td>\n",
       "      <td>-8.940119</td>\n",
       "      <td>-6.218641</td>\n",
       "    </tr>\n",
       "    <tr>\n",
       "      <th>1848</th>\n",
       "      <td>-4.035367</td>\n",
       "      <td>-11.293093</td>\n",
       "      <td>6.022806</td>\n",
       "    </tr>\n",
       "    <tr>\n",
       "      <th>1849</th>\n",
       "      <td>-10.320475</td>\n",
       "      <td>-0.891077</td>\n",
       "      <td>-1.406394</td>\n",
       "    </tr>\n",
       "  </tbody>\n",
       "</table>\n",
       "<p>1850 rows × 3 columns</p>\n",
       "</div>"
      ],
      "text/plain": [
       "            yaw      pitch       roll\n",
       "0      1.044306 -22.874239   4.908886\n",
       "1     68.155240  26.932743  17.243670\n",
       "2     50.485413 -10.579652 -13.570645\n",
       "3     17.143373 -10.048455 -21.392782\n",
       "4      0.685565  -1.536199 -12.643008\n",
       "...         ...        ...        ...\n",
       "1845 -16.261791 -17.552992   2.208994\n",
       "1846 -24.621336 -21.058870   7.035404\n",
       "1847  32.493248  -8.940119  -6.218641\n",
       "1848  -4.035367 -11.293093   6.022806\n",
       "1849 -10.320475  -0.891077  -1.406394\n",
       "\n",
       "[1850 rows x 3 columns]"
      ]
     },
     "execution_count": 5,
     "metadata": {},
     "output_type": "execute_result"
    }
   ],
   "source": [
    "Y"
   ]
  },
  {
   "cell_type": "code",
   "execution_count": 6,
   "id": "cfdb1658",
   "metadata": {},
   "outputs": [],
   "source": [
    "X = np.array(X)\n",
    "Y = np.array(Y)"
   ]
  },
  {
   "cell_type": "code",
   "execution_count": 7,
   "id": "51afbb0d",
   "metadata": {},
   "outputs": [
    {
     "data": {
      "text/plain": [
       "array([  1.044306,  68.15524 ,  50.485413, ...,  32.493248,  -4.035367,\n",
       "       -10.320475])"
      ]
     },
     "execution_count": 7,
     "metadata": {},
     "output_type": "execute_result"
    }
   ],
   "source": [
    "Y[:,0]"
   ]
  },
  {
   "cell_type": "code",
   "execution_count": 8,
   "id": "5ed23638",
   "metadata": {},
   "outputs": [
    {
     "data": {
      "text/plain": [
       "RandomForestRegressor(max_depth=30, max_leaf_nodes=105, max_samples=1240)"
      ]
     },
     "execution_count": 8,
     "metadata": {},
     "output_type": "execute_result"
    }
   ],
   "source": [
    "yaw_model.fit(X,Y[:,0])\n",
    "pitch_model.fit(X,Y[:,1])\n",
    "roll_model.fit(X,Y[:,2])"
   ]
  },
  {
   "cell_type": "code",
   "execution_count": 9,
   "id": "83cd6df5",
   "metadata": {},
   "outputs": [
    {
     "name": "stdout",
     "output_type": "stream",
     "text": [
      "yaw_model_score: 0.954484161950653\n",
      "pitch_model_score: 0.6811851901441165\n",
      "roll_model_score: 0.8249496803253984\n"
     ]
    }
   ],
   "source": [
    "score = yaw_model.score(X, Y[:,0])\n",
    "print(\"yaw_model_score:\", score) \n",
    "score = pitch_model.score(X, Y[:,1])\n",
    "print(\"pitch_model_score:\", score) \n",
    "score = roll_model.score(X, Y[:,2])\n",
    "print(\"roll_model_score:\", score)"
   ]
  },
  {
   "cell_type": "code",
   "execution_count": 10,
   "id": "d9b83c80",
   "metadata": {},
   "outputs": [
    {
     "data": {
      "text/plain": [
       "array([ 3.16672419, 68.30807353, 17.4575617 , ..., 10.8844662 ,\n",
       "       -1.46244899, -3.38076748])"
      ]
     },
     "execution_count": 10,
     "metadata": {},
     "output_type": "execute_result"
    }
   ],
   "source": [
    "yaw_model.predict(X)"
   ]
  },
  {
   "cell_type": "code",
   "execution_count": 11,
   "id": "a01e8820",
   "metadata": {},
   "outputs": [],
   "source": [
    "def draw_axis(img, pitch,yaw,roll, tdx=None, tdy=None, size = 100):\n",
    "    yaw = -yaw\n",
    "    if tdx != None and tdy != None:\n",
    "        tdx = tdx\n",
    "        tdy = tdy\n",
    "    else:\n",
    "        height, width = img.shape[:2]\n",
    "        tdx = width / 2\n",
    "        tdy = height / 2\n",
    "\n",
    "    # X-Axis pointing to right. drawn in red\n",
    "    x1 = size * (cos(yaw) * cos(roll)) + tdx\n",
    "    y1 = size * (cos(pitch) * sin(roll) + cos(roll) * sin(pitch) * sin(yaw)) + tdy\n",
    "\n",
    "    # Y-Axis | drawn in green\n",
    "    #        v\n",
    "    x2 = size * (-cos(yaw) * sin(roll)) + tdx\n",
    "    y2 = size * (cos(pitch) * cos(roll) - sin(pitch) * sin(yaw) * sin(roll)) + tdy\n",
    "\n",
    "    # Z-Axis (out of the screen) drawn in blue\n",
    "    x3 = size * (sin(yaw)) + tdx\n",
    "    y3 = size * (-cos(yaw) * sin(pitch)) + tdy\n",
    "\n",
    "    cv2.line(img, (int(tdx), int(tdy)), (int(x1),int(y1)),(0,0,255),3)\n",
    "    cv2.line(img, (int(tdx), int(tdy)), (int(x2),int(y2)),(0,255,0),3)\n",
    "    cv2.line(img, (int(tdx), int(tdy)), (int(x3),int(y3)),(255,0,0),2)\n",
    "\n",
    "    return img"
   ]
  },
  {
   "cell_type": "code",
   "execution_count": 87,
   "id": "75d6eced",
   "metadata": {},
   "outputs": [
    {
     "data": {
      "image/png": "[encoded data removed]",
      "text/plain": [
       "<Figure size 432x288 with 1 Axes>"
      ]
     },
     "metadata": {
      "needs_background": "light"
     },
     "output_type": "display_data"
    }
   ],
   "source": [
    "# choosing random image from the testing data\n",
    "faceModule = mp.solutions.face_mesh\n",
    "with faceModule.FaceMesh(static_image_mode=True) as face:\n",
    "    # reading the image\n",
    "    frame = cv2.imread('test.jpg')\n",
    "    # processing the image to detect the face and then generating the land marks (468 for each x,y,z).\n",
    "    results = face.process(cv2.cvtColor(frame, cv2.COLOR_BGR2RGB))\n",
    "    if results.multi_face_landmarks != None:\n",
    "        for face in results.multi_face_landmarks:\n",
    "            for j,landmark in enumerate(face.landmark):\n",
    "                x = landmark.x\n",
    "                y = landmark.y\n",
    "                \n",
    "                shape = frame.shape \n",
    "                \n",
    "                relative_x = int(x * shape[1])\n",
    "                relative_y = int(y * shape[0])\n",
    "                \n",
    "                cv2.circle(frame, (relative_x, relative_y), radius=1, color=(0, 255, 0), thickness=2)\n",
    "        plt.imshow(frame)"
   ]
  },
  {
   "cell_type": "code",
   "execution_count": 88,
   "id": "f2c05c2e",
   "metadata": {},
   "outputs": [],
   "source": [
    "faceModule = mediapipe.solutions.face_mesh\n",
    "with faceModule.FaceMesh(static_image_mode=True) as face:\n",
    "    frame = cv2.imread('test.jpg')\n",
    "    results = face.process(cv2.cvtColor(frame, cv2.COLOR_BGR2RGB))\n",
    "    if results.multi_face_landmarks != None:\n",
    "        for face in results.multi_face_landmarks:\n",
    "            # initializing two lists to store x and y points\n",
    "            X = []\n",
    "            Y = []\n",
    "            for j,landmark in enumerate(face.landmark):\n",
    "                x = landmark.x\n",
    "                y = landmark.y\n",
    "                shape = frame.shape \n",
    "                relative_x = int(x * shape[1])\n",
    "                relative_y = int(y * shape[0])\n",
    "                X.append(relative_x)\n",
    "                Y.append(relative_y)\n",
    "\n",
    "            X = pd.DataFrame(X).T\n",
    "            Y = pd.DataFrame(Y).T\n",
    "\n",
    "            y_cord_features = Y\n",
    "            x_cord_features = X\n",
    "            \n",
    "            point_to_center_x = 2\n",
    "            point_to_center_y = 3\n",
    "            \n",
    "            centered_x_features = x_cord_features.sub(x_cord_features.iloc\\\n",
    "                                          [:, int(point_to_center_x)], axis='rows')\n",
    "\n",
    "            centered_y_features = y_cord_features.sub(y_cord_features.iloc\\\n",
    "                                                  [:, int(point_to_center_y)], axis='rows')\n",
    "\n",
    "\n",
    "\n",
    "            # Divide distances 1\n",
    "            centered_x_features = centered_x_features.sub(centered_x_features.min(axis=1),\\\n",
    "                                                          axis=0)\n",
    "\n",
    "            centered_x_features = centered_x_features.div( (centered_x_features.max(axis=1)\\\n",
    "                                                            -centered_x_features.min(axis=1))\\\n",
    "                                                          ,axis=0)\n",
    "\n",
    "            centered_y_features = centered_y_features.sub(centered_y_features.min(axis=1),axis=0)\n",
    "\n",
    "            centered_y_features = centered_y_features.div( (centered_y_features.max(axis=1)\\\n",
    "                                                            -centered_y_features.min(axis=1)) ,axis=0)\n",
    "\n",
    "\n",
    "\n",
    "            scaled_data = pd.concat([centered_x_features, centered_y_features], axis=1)\n",
    "\n",
    "\n",
    "            points = np.array(scaled_data)\n",
    "            \n",
    "            pred_pitch = pitch_model.predict(points) * -1\n",
    "            pred_yaw = yaw_model.predict(points)\n",
    "            pred_roll = roll_model.predict(points) \n",
    "            \n",
    "            img = draw_axis(frame, pred_pitch, pred_yaw, pred_roll, X.iloc[:, int(point_to_center_x)][0], Y.iloc[:, int(point_to_center_y)][0])\n",
    "            cv2.imwrite('outimg.jpg', img)\n"
   ]
  },
  {
   "cell_type": "code",
   "execution_count": 89,
   "id": "8dc542a2",
   "metadata": {},
   "outputs": [],
   "source": [
    "cap = cv2.VideoCapture('screen.mp4')\n",
    "width= int(cap.get(cv2.CAP_PROP_FRAME_WIDTH))\n",
    "height= int(cap.get(cv2.CAP_PROP_FRAME_HEIGHT))\n",
    "\n",
    "if (cap.isOpened()== False): \n",
    "    print(\"Error!!!\")\n",
    "\n",
    "img_array = []\n",
    "\n",
    "while(cap.isOpened()):   \n",
    "\n",
    "    ret, frame = cap.read()\n",
    "    if ret == True:\n",
    "        with faceModule.FaceMesh(static_image_mode=True) as face:\n",
    "\n",
    "            results = face.process(cv2.cvtColor(frame, cv2.COLOR_BGR2RGB))\n",
    "            if results.multi_face_landmarks != None:\n",
    "                for face in results.multi_face_landmarks:\n",
    "\n",
    "                    X = []\n",
    "                    Y = []\n",
    "                    # looping over the landmarks to extract x and y\n",
    "                    for j,landmark in enumerate(face.landmark):\n",
    "                        x = landmark.x\n",
    "                        y = landmark.y\n",
    "                        # retrieve the true values of x and y\n",
    "                        shape = frame.shape \n",
    "                        relative_x = int(x * shape[1])\n",
    "                        relative_y = int(y * shape[0])\n",
    "                        X.append(relative_x)\n",
    "                        Y.append(relative_y)\n",
    "                \n",
    "                # converting the x and y points to numpy array\n",
    "                X = pd.DataFrame(X).T\n",
    "                Y = pd.DataFrame(Y).T\n",
    "\n",
    "                y_cord_features = Y\n",
    "                x_cord_features = X\n",
    "\n",
    "                point_to_center_x = 2\n",
    "                point_to_center_y = 3\n",
    "\n",
    "                centered_x_features = x_cord_features.sub(x_cord_features.iloc\\\n",
    "                                              [:, int(point_to_center_x)], axis='rows')\n",
    "\n",
    "                centered_y_features = y_cord_features.sub(y_cord_features.iloc\\\n",
    "                                                      [:, int(point_to_center_y)], axis='rows')\n",
    "\n",
    "\n",
    "\n",
    "                # Divide distances 1\n",
    "                centered_x_features = centered_x_features.sub(centered_x_features.min(axis=1),\\\n",
    "                                                              axis=0)\n",
    "\n",
    "                centered_x_features = centered_x_features.div( (centered_x_features.max(axis=1)\\\n",
    "                                                                -centered_x_features.min(axis=1))\\\n",
    "                                                              ,axis=0)\n",
    "\n",
    "                centered_y_features = centered_y_features.sub(centered_y_features.min(axis=1),axis=0)\n",
    "\n",
    "                centered_y_features = centered_y_features.div( (centered_y_features.max(axis=1)\\\n",
    "                                                                -centered_y_features.min(axis=1)) ,axis=0)\n",
    "\n",
    "\n",
    "\n",
    "                scaled_data = pd.concat([centered_x_features, centered_y_features], axis=1)\n",
    "\n",
    "\n",
    "                # concatinating the x and y points to predict the labels (pitch,yaw,roll)\n",
    "                points = np.array(scaled_data)\n",
    "\n",
    "                pred_pitch = pitch_model.predict(points)\n",
    "                pred_yaw = yaw_model.predict(points)\n",
    "                pred_roll = roll_model.predict(points)\n",
    "                draw_axis(frame,pred_pitch,pred_yaw,pred_roll, X.iloc[:, int(point_to_center_x)][0], Y.iloc[:, int(point_to_center_y)][0])\n",
    "                img_array.append(frame)\n",
    "\n",
    "    else: \n",
    "        break\n",
    "\n",
    "cap.release()  \n",
    "cv2.destroyAllWindows()"
   ]
  },
  {
   "cell_type": "code",
   "execution_count": 90,
   "id": "a7619aee",
   "metadata": {},
   "outputs": [
    {
     "name": "stdout",
     "output_type": "stream",
     "text": [
      "739\n"
     ]
    }
   ],
   "source": [
    "print(X.iloc[:, int(point_to_center_x)][0])"
   ]
  },
  {
   "cell_type": "code",
   "execution_count": 91,
   "id": "690088b0",
   "metadata": {},
   "outputs": [
    {
     "name": "stdout",
     "output_type": "stream",
     "text": [
      "462\n"
     ]
    }
   ],
   "source": [
    "print(Y.iloc[:, int(point_to_center_y)][0])"
   ]
  },
  {
   "cell_type": "code",
   "execution_count": 92,
   "id": "9ced421d",
   "metadata": {},
   "outputs": [],
   "source": [
    "out = cv2.VideoWriter('outpy3.avi',cv2.VideoWriter_fourcc(*'MJPG'), 15, (width,height))\n",
    "for i in range(len(img_array)):\n",
    "    out.write(img_array[i])\n",
    "out.release()"
   ]
  },
  {
   "cell_type": "code",
   "execution_count": null,
   "id": "848e7b47",
   "metadata": {},
   "outputs": [],
   "source": []
  }
 ],
 "metadata": {
  "kernelspec": {
   "display_name": "Python 3 (ipykernel)",
   "language": "python",
   "name": "python3"
  },
  "language_info": {
   "codemirror_mode": {
    "name": "ipython",
    "version": 3
   },
   "file_extension": ".py",
   "mimetype": "text/x-python",
   "name": "python",
   "nbconvert_exporter": "python",
   "pygments_lexer": "ipython3",
   "version": "3.9.10"
  }
 },
 "nbformat": 4,
 "nbformat_minor": 5
}
